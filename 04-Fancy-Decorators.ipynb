{
 "cells": [
  {
   "metadata": {},
   "cell_type": "markdown",
   "source": "# Fancy Decorators",
   "id": "1178159001ad00ab"
  },
  {
   "metadata": {},
   "cell_type": "markdown",
   "source": [
    "In the second part of this tutorial, we explore more advanced\n",
    "features including:\n",
    "\n",
    "- Add **decoractors to classes**\n",
    "- Add **several decorators** to one function\n",
    "- Create decorators with **arguments**\n",
    "- Create decorators that can **optionally** take arguments\n",
    "- Define **stateful** decorators\n",
    "- **Define classes** that act as decorators"
   ],
   "id": "6a20d9628a88e80a"
  },
  {
   "metadata": {},
   "cell_type": "markdown",
   "source": "## Decorating Classes",
   "id": "18060439d9dd861"
  },
  {
   "metadata": {},
   "cell_type": "markdown",
   "source": [
    "One can use decorators on classes in two different ways\n",
    "\n",
    "- **Decorate** the **methods of a class**\n",
    "- Decorate the **whole** class\n",
    "\n",
    "Some decorations for the methods of a class are even built-ins in\n",
    "Python, including:\n",
    "\n",
    "- `@classmethod`\n",
    "- `@staticmethod`\n",
    "- `@property`\n"
   ],
   "id": "357b964ba0455c70"
  },
  {
   "metadata": {},
   "cell_type": "markdown",
   "source": [
    "For example, we can decorate methods using the `@trace` and `@timer`\n",
    "decorators defined earlier."
   ],
   "id": "1eaf4922cfa84452"
  },
  {
   "metadata": {},
   "cell_type": "code",
   "source": [
    "from decorators import trace, timer\n",
    "\n",
    "class TimeWaster:\n",
    "    @trace\n",
    "    def __init__(self, max_num):\n",
    "        self.max_num = max_num\n",
    "\n",
    "    @timer\n",
    "    def waste_time(self, num_times):\n",
    "        for _ in range(num_times):\n",
    "            sum([number ** 2 for number in range(self.max_num)])"
   ],
   "id": "d913120cd05594de",
   "outputs": [],
   "execution_count": null
  },
  {
   "metadata": {},
   "cell_type": "markdown",
   "source": "Using this class, one can see the effect of the decorators.",
   "id": "a8c56b6c4684fbb9"
  },
  {
   "metadata": {},
   "cell_type": "code",
   "source": "tw = TimeWaster(1000)",
   "id": "640da1925336b03d",
   "outputs": [],
   "execution_count": null
  },
  {
   "metadata": {},
   "cell_type": "code",
   "source": "tw.waste_time(999)",
   "id": "9d23f49b81baa40f",
   "outputs": [],
   "execution_count": null
  },
  {
   "metadata": {},
   "cell_type": "markdown",
   "source": [
    "The other way to use decorators is to **decorate the whole class**.\n",
    "\n",
    "This decoration of the entire class is done, for example, in the\n",
    "`dataclasses` module."
   ],
   "id": "715f38b1bcd92777"
  },
  {
   "metadata": {},
   "cell_type": "code",
   "source": [
    "from dataclasses import dataclass\n",
    "\n",
    "@dataclass\n",
    "class PlayingCard:\n",
    "    rank: str\n",
    "    suit: str"
   ],
   "id": "34ef166e0e197cf2",
   "outputs": [],
   "execution_count": null
  },
  {
   "metadata": {},
   "cell_type": "markdown",
   "source": [
    "The meaning of the syntax is similar to that of a function decorator.\n",
    "For exaple, one could have decorated the `PlayingCard` class by the\n",
    "expression, `PlayingCard = dataclass(PlayingCard)`.\n",
    "\n",
    "A common use case of class decorators is to be a simpler alternative\n",
    "to some use cases of **metaclasses**. In both cases, one is changing\n",
    "the definition of a class **dynamically**."
   ],
   "id": "2414a56e5fd181bf"
  },
  {
   "metadata": {},
   "cell_type": "markdown",
   "source": [
    "Writing a class decorator is similar to writing a function decorator.\n",
    "The only difference is that the decorator will receive a **class**\n",
    "and not a function as an arguments. In fact, all the decorators in\n",
    "our previous notebooks **will** work as class decorators.\n",
    "\n",
    "However, when you're using these decorators on a class method instead\n",
    "of a function, their effect **might not be what you want."
   ],
   "id": "34dfb7f321d5f44f"
  },
  {
   "metadata": {},
   "cell_type": "markdown",
   "source": "For example, let's apply the `@timer` decorator to a class.",
   "id": "265abba381311f43"
  },
  {
   "metadata": {},
   "cell_type": "code",
   "source": [
    "@timer\n",
    "class TimeWaster:\n",
    "    def __init__(self, max_num):\n",
    "        self.max_num = max_num\n",
    "\n",
    "    def waste_time(self, num_times):\n",
    "        for _ in range(num_times):\n",
    "            sum([i ** 2 for i in range(self.max_num)])"
   ],
   "id": "a8222dce95b670d5",
   "outputs": [],
   "execution_count": null
  },
  {
   "metadata": {},
   "cell_type": "markdown",
   "source": [
    "Decorating a class **doesn't** decorate its methods. Instead, `@timer`\n",
    "only measures the time it takes to instantiate the class."
   ],
   "id": "3ebfeeac51ef7770"
  },
  {
   "metadata": {},
   "cell_type": "code",
   "source": "tw = TimeWaster(1000)",
   "id": "98cf64aaa8827d98",
   "outputs": [],
   "execution_count": null
  },
  {
   "metadata": {},
   "cell_type": "code",
   "source": "tw.waste_time(999)",
   "id": "78f281aabb9b2990",
   "outputs": [],
   "execution_count": null
  },
  {
   "metadata": {},
   "cell_type": "markdown",
   "source": [
    "Note that the output of `@timer` is only printed when the instance,\n",
    "`tw`, is created. The call to `waste_time()` **is not timed**.\n",
    "\n",
    "Later, we'll see an example of defining a proper class decorator,\n",
    "namely, `@singleton`, which ensures that only one instance of\n",
    "class exists at runtime."
   ],
   "id": "9ec9dd5c293b2a94"
  },
  {
   "metadata": {},
   "cell_type": "markdown",
   "source": "## Nesting Decorators",
   "id": "ed67490b94433ed4"
  },
  {
   "metadata": {},
   "cell_type": "markdown",
   "source": [
    "One can _apply several decorators_ to a function at once by stacking\n",
    "them on top of each other."
   ],
   "id": "199918e21bde57f8"
  },
  {
   "metadata": {},
   "cell_type": "code",
   "source": [
    "from decorators import trace, do_twice\n",
    "\n",
    "@trace\n",
    "@do_twice\n",
    "def greet(name):\n",
    "    print(f'Hello {name}')"
   ],
   "id": "3d0f1691e6dcc4a0",
   "outputs": [],
   "execution_count": null
  },
  {
   "metadata": {},
   "cell_type": "markdown",
   "source": [
    "Remember that applying two decorators as we do previously results in\n",
    "\n",
    "- `@trace calls @do_twice which calls `greet()`\n",
    "\n",
    "which is the same as `trace(do_twice(greet()))"
   ],
   "id": "7980a2b81d991e48"
  },
  {
   "metadata": {},
   "cell_type": "code",
   "source": "greet('Yadi')",
   "id": "1f986b04fc646efa",
   "outputs": [],
   "execution_count": null
  },
  {
   "metadata": {},
   "cell_type": "markdown",
   "source": [
    "The greeting is printed twice because of `@do_twice`. However, the\n",
    "output from `@trace` is only shown **once** since the call to `trace`\n",
    "occurs **before** the `@do_twice` decorator."
   ],
   "id": "a7c1d2a3fafad1a3"
  },
  {
   "metadata": {},
   "cell_type": "code",
   "source": [
    "@do_twice\n",
    "@trace\n",
    "def greet(name):\n",
    "    print(f'Hello {name}')\n",
    "\n",
    "greet('Yadi')"
   ],
   "id": "e1aa16b290984638",
   "outputs": [],
   "execution_count": null
  },
  {
   "metadata": {},
   "cell_type": "markdown",
   "source": [
    "Here, `@do_twice` is applied to @trace. Consequently, one can see that\n",
    "both calls to `greet()` are annotated with trace information."
   ],
   "id": "9f8f9aa5106722eb"
  },
  {
   "metadata": {},
   "cell_type": "markdown",
   "source": "## Defining Decorators with Arguments",
   "id": "9bc4269654a785ca"
  },
  {
   "metadata": {},
   "cell_type": "markdown",
   "source": [
    "Sometimes, it is useful to _pass arguments to your decorators_. For\n",
    "instance, `@do_twice` could be extended to a `@repeat(num_times)`\n",
    "decorator. In this situation, the number of repetitions could be\n",
    "given as an argument."
   ],
   "id": "c518430333b66015"
  },
  {
   "metadata": {},
   "cell_type": "code",
   "source": "from decorators import repeat",
   "id": "d4ac7b927b7bed77",
   "outputs": [],
   "execution_count": null
  },
  {
   "metadata": {},
   "cell_type": "markdown",
   "source": [
    "There are a few subtle things happening in the `repeat()` function:\n",
    "\n",
    "- Defining `decorator_repeat()` as an inner function means that\n",
    "  `repeat()` refers to a function object, `decorator_repeat`. Earlier,\n",
    "  you used decorators like `@do_twice` **without** parentheses. Now,\n",
    "  you **must** add parentheses when setting up the decorator, as in\n",
    "  `@repeat()`. This is required to **add arguments**.\n",
    "- The `num_times` argument is seemingly not used in `repeat()` itself.\n",
    "  But by passing `num_times` to `repeat()`, a **closure** is created\n",
    "  where the value of `num_times` is stored until `wrapper_repeat()`\n",
    "  uses it later."
   ],
   "id": "6d846f48fc4e0204"
  },
  {
   "metadata": {},
   "cell_type": "markdown",
   "source": "Here are our results:",
   "id": "3e26a5fc6f502c8a"
  },
  {
   "metadata": {},
   "cell_type": "code",
   "source": [
    "@repeat(num_times=4)\n",
    "def greet(name):\n",
    "    print('Hello', name)\n",
    "\n",
    "greet('World)')"
   ],
   "id": "d0f1f77f6450bb5f",
   "outputs": [],
   "execution_count": null
  },
  {
   "metadata": {},
   "cell_type": "markdown",
   "source": "## Creating Decorators with Optional Arguments",
   "id": "a56657bc6dbb303f"
  },
  {
   "metadata": {},
   "cell_type": "markdown",
   "source": [
    "With a little bit of care, you can also define _decorators that can\n",
    "be used both with and without arguments.\n",
    "\n",
    "When a decorator uses arguments, you need to add an extra outer function.\n",
    "The challenge now is for your code to figure out if you've called the\n",
    "decorator with or without arguments. This means that the decorator\n",
    "arguments must all be specified by keyword. You can enforce this with the\n",
    "special asterisk (`*`) syntax, which means that **all the following\n",
    "parameters are keyword-only**."
   ],
   "id": "e82d54afc9daf078"
  },
  {
   "metadata": {},
   "cell_type": "markdown",
   "source": [
    "For example, after defining the inner decorator, for example,\n",
    "`decorator_name()`, return `decorator_name` if `_func` is `None`, return\n",
    "`decorator_name` (the function **without** any captured `_func`). If\n",
    "`_func` is **not** `None`, return `decorator_name(_func)`; that is,\n",
    "the `decorator_name` function with the `_func` argument set.\n"
   ],
   "id": "217b79cf2f1196a8"
  },
  {
   "metadata": {},
   "cell_type": "markdown",
   "source": "Let's now apply `repeat` with and without arugements.",
   "id": "4779241d2a74f77e"
  },
  {
   "metadata": {},
   "cell_type": "code",
   "source": [
    "@repeat\n",
    "def say_whee():\n",
    "    print('Whee!')\n",
    "\n",
    "say_whee()"
   ],
   "id": "88d046b5c793f80f",
   "outputs": [],
   "execution_count": null
  },
  {
   "metadata": {},
   "cell_type": "code",
   "source": [
    "@repeat(num_times=3)\n",
    "def greet(name):\n",
    "    print(f'Hello {name}')\n",
    "\n",
    "greet('Penny')"
   ],
   "id": "9049acb5853c7aa0",
   "outputs": [],
   "execution_count": null
  },
  {
   "metadata": {},
   "cell_type": "markdown",
   "source": "## Tracking State in Decorators",
   "id": "9fc346bf9744be71"
  },
  {
   "metadata": {},
   "cell_type": "markdown",
   "source": [
    "Sometimes, it's useful to have a decorator that can **keep track\n",
    "of state**. As an example, we'll create a decorator that counts\n",
    "the number of times a function is called."
   ],
   "id": "47c5f60b6e3f9ca8"
  },
  {
   "metadata": {},
   "cell_type": "markdown",
   "source": [
    "**Note**: In the beginning of this guide, you learned about pure\n",
    "functions returning a value based on given arguments. Stateful\n",
    "decorators are quite the opposite, where the return value will\n",
    "depend on the current state, as well as the given arguments."
   ],
   "id": "4bec3a3878d51aac"
  },
  {
   "metadata": {},
   "cell_type": "markdown",
   "source": [
    "In the next section, you'll see how to use classes to keep state.\n",
    "But in simple cases, you can also get away with using\n",
    "**function attributes**."
   ],
   "id": "5f84b407dbbdacff"
  },
  {
   "metadata": {},
   "cell_type": "markdown",
   "source": "Here's the effect of our `count_calls` decorator with side-effects.",
   "id": "e81ec5d86bc557e0"
  },
  {
   "metadata": {},
   "cell_type": "code",
   "source": [
    "from decorators import count_calls\n",
    "\n",
    "@count_calls\n",
    "def say_whee():\n",
    "    print('Whee!')"
   ],
   "id": "3a6c86571e22c420",
   "outputs": [],
   "execution_count": null
  },
  {
   "metadata": {},
   "cell_type": "code",
   "source": [
    "say_whee()\n",
    "\n",
    "say_whee()\n",
    "\n",
    "say_whee.num_calls"
   ],
   "id": "91d708e0bdc8b106",
   "outputs": [],
   "execution_count": null
  },
  {
   "metadata": {},
   "cell_type": "markdown",
   "source": "## Using Classes as Decorators",
   "id": "8c8dfc3a8ffce08e"
  },
  {
   "metadata": {},
   "cell_type": "markdown",
   "source": [
    "The typical way to maintain state in Python is by **using classes**.\n",
    "In this section, you'll see how to rewrite the `@count_calls` example\n",
    "from the previous section to _use a class as a decorator_.\n",
    "\n",
    "Recall that the decorator syntax `@decorator` is just a quicker way of\n",
    "saying `func = decorator(func)`. Consequently, if a decorator is a\n",
    "**class**, it needs to take `func` as an argument in its `__init__()`\n",
    "initializer. Furthermore, the class instance needs to be **callable**\n",
    "so that it can stand in for a _decorated function_.\n",
    "\n",
    "**Note**: Up until now, all the decorators that you've seen have been\n",
    "defined as functions. This is how one most often creates decorators.\n",
    "However, one can use **any callable expression** as a decorator."
   ],
   "id": "c3d509c03755d008"
  },
  {
   "metadata": {},
   "cell_type": "markdown",
   "source": "For a **class instance** to be callable, one implements the special method, `__call__()`.",
   "id": "3aac72ee606fdb0f"
  },
  {
   "metadata": {},
   "cell_type": "code",
   "source": [
    "class Counter:\n",
    "    def __init__(self, start=0):\n",
    "        self.count = start\n",
    "\n",
    "    def __call__(self):\n",
    "        self.count += 1\n",
    "        print(f'Current count is {self.count}')"
   ],
   "id": "900b110fa88aad6f",
   "outputs": [],
   "execution_count": null
  },
  {
   "metadata": {},
   "cell_type": "markdown",
   "source": [
    "The `__call__()` method is executed each time you call an\n",
    "**instance** of the class."
   ],
   "id": "491fd3e2392013d1"
  },
  {
   "metadata": {},
   "cell_type": "code",
   "source": [
    "counter = Counter()\n",
    "counter()"
   ],
   "id": "88dfee7f2364e190",
   "outputs": [],
   "execution_count": null
  },
  {
   "metadata": {},
   "cell_type": "code",
   "source": "counter()",
   "id": "3fff6743b69577cc",
   "outputs": [],
   "execution_count": null
  },
  {
   "metadata": {},
   "cell_type": "code",
   "source": "counter.count",
   "id": "e6fe6af665bef83d",
   "outputs": [],
   "execution_count": null
  },
  {
   "metadata": {},
   "cell_type": "markdown",
   "source": [
    "Each time one calls `counter()`, the **state** changes; that is,\n",
    "count` increases.\n",
    "\n",
    "Consequently, a typical implementation of a decorator class\n",
    "should implement both `__init__()` and `__call__()`.\n",
    "\n",
    "(See the `CountCalls` class in file, `decorators.py`.)"
   ],
   "id": "cf022555e591b752"
  },
  {
   "metadata": {},
   "cell_type": "markdown",
   "source": [
    "The imported `CountCalls` decorator works the same as the\n",
    "`Counter()` function."
   ],
   "id": "ca503a14bb869314"
  },
  {
   "metadata": {},
   "cell_type": "code",
   "source": [
    "from decorators import CountCalls\n",
    "\n",
    "@CountCalls\n",
    "def say_whee():\n",
    "    print('Whee!')"
   ],
   "id": "61302ae0dbdafe79",
   "outputs": [],
   "execution_count": null
  },
  {
   "metadata": {},
   "cell_type": "code",
   "source": "say_whee()",
   "id": "48a1668c421223a5",
   "outputs": [],
   "execution_count": null
  },
  {
   "metadata": {},
   "cell_type": "code",
   "source": "say_whee()",
   "id": "aaf05f1f8eb98266",
   "outputs": [],
   "execution_count": null
  },
  {
   "metadata": {},
   "cell_type": "code",
   "source": "say_whee.num_calls",
   "id": "194a45a0f1763757",
   "outputs": [],
   "execution_count": null
  },
  {
   "metadata": {},
   "cell_type": "markdown",
   "source": "Each call to `say_whee()` is counted and noted.",
   "id": "cc4030369e907e8a"
  },
  {
   "metadata": {},
   "cell_type": "code",
   "source": "",
   "id": "7185f408e586fb65",
   "outputs": [],
   "execution_count": null
  }
 ],
 "metadata": {
  "kernelspec": {
   "display_name": "Python 3",
   "language": "python",
   "name": "python3"
  },
  "language_info": {
   "codemirror_mode": {
    "name": "ipython",
    "version": 2
   },
   "file_extension": ".py",
   "mimetype": "text/x-python",
   "name": "python",
   "nbconvert_exporter": "python",
   "pygments_lexer": "ipython2",
   "version": "2.7.6"
  }
 },
 "nbformat": 4,
 "nbformat_minor": 5
}

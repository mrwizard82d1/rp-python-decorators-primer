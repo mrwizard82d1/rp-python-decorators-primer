{
 "cells": [
  {
   "metadata": {},
   "cell_type": "markdown",
   "source": "# Fancy Decorators",
   "id": "1178159001ad00ab"
  },
  {
   "metadata": {},
   "cell_type": "markdown",
   "source": [
    "In the second part of this tutorial, we explore more advanced\n",
    "features including:\n",
    "\n",
    "- Add **decoractors to classes**\n",
    "- Add **several decorators** to one function\n",
    "- Create decorators with **arguments**\n",
    "- Create decorators that can **optionally** take arguments\n",
    "- Define **stateful** decorators\n",
    "- **Define classes** that act as decorators"
   ],
   "id": "6a20d9628a88e80a"
  },
  {
   "metadata": {},
   "cell_type": "markdown",
   "source": "## Decorating Classes",
   "id": "18060439d9dd861"
  },
  {
   "metadata": {},
   "cell_type": "markdown",
   "source": [
    "One can use decorators on classes in two different ways\n",
    "\n",
    "- **Decorate** the **methods of a class**\n",
    "- Decorate the **whole** class\n",
    "\n",
    "Some decorations for the methods of a class are even built-ins in\n",
    "Python, including:\n",
    "\n",
    "- `@classmethod`\n",
    "- `@staticmethod`\n",
    "- `@property`\n"
   ],
   "id": "357b964ba0455c70"
  },
  {
   "metadata": {},
   "cell_type": "markdown",
   "source": [
    "For example, we can decorate methods using the `@trace` and `@timer`\n",
    "decorators defined earlier."
   ],
   "id": "1eaf4922cfa84452"
  },
  {
   "metadata": {
    "ExecuteTime": {
     "end_time": "2024-11-24T21:00:41.479423Z",
     "start_time": "2024-11-24T21:00:41.469270Z"
    }
   },
   "cell_type": "code",
   "source": [
    "from secrets import token_hex\n",
    "from xxsubtype import bench\n",
    "\n",
    "from decorators import trace, timer\n",
    "\n",
    "class TimeWaster:\n",
    "    @trace\n",
    "    def __init__(self, max_num):\n",
    "        self.max_num = max_num\n",
    "\n",
    "    @timer\n",
    "    def waste_time(self, num_times):\n",
    "        for _ in range(num_times):\n",
    "            sum([number ** 2 for number in range(self.max_num)])"
   ],
   "id": "d913120cd05594de",
   "outputs": [],
   "execution_count": 1
  },
  {
   "metadata": {},
   "cell_type": "markdown",
   "source": "Using this class, one can see the effect of the decorators.",
   "id": "a8c56b6c4684fbb9"
  },
  {
   "metadata": {
    "ExecuteTime": {
     "end_time": "2024-11-24T21:00:41.484329Z",
     "start_time": "2024-11-24T21:00:41.482470Z"
    }
   },
   "cell_type": "code",
   "source": "tw = TimeWaster(1000)",
   "id": "640da1925336b03d",
   "outputs": [
    {
     "name": "stdout",
     "output_type": "stream",
     "text": [
      "Calling __init__(<__main__.TimeWaster object at 0x1063e0590>, 1000)\n",
      "__init__() returns None\n"
     ]
    }
   ],
   "execution_count": 2
  },
  {
   "metadata": {
    "ExecuteTime": {
     "end_time": "2024-11-24T21:00:41.628089Z",
     "start_time": "2024-11-24T21:00:41.589657Z"
    }
   },
   "cell_type": "code",
   "source": "tw.waste_time(999)",
   "id": "9d23f49b81baa40f",
   "outputs": [
    {
     "name": "stdout",
     "output_type": "stream",
     "text": [
      "Finished 'waste_time' in 0.0368 seconds\n"
     ]
    }
   ],
   "execution_count": 3
  },
  {
   "metadata": {},
   "cell_type": "markdown",
   "source": [
    "The other way to use decorators is to **decorate the whole class**.\n",
    "\n",
    "This decoration of the entire class is done, for example, in the\n",
    "`dataclasses` module."
   ],
   "id": "715f38b1bcd92777"
  },
  {
   "metadata": {
    "ExecuteTime": {
     "end_time": "2024-11-24T21:00:41.640577Z",
     "start_time": "2024-11-24T21:00:41.638331Z"
    }
   },
   "cell_type": "code",
   "source": [
    "from dataclasses import dataclass\n",
    "\n",
    "@dataclass\n",
    "class PlayingCard:\n",
    "    rank: str\n",
    "    suit: str"
   ],
   "id": "34ef166e0e197cf2",
   "outputs": [],
   "execution_count": 4
  },
  {
   "metadata": {},
   "cell_type": "markdown",
   "source": [
    "The meaning of the syntax is similar to that of a function decorator.\n",
    "For exaple, one could have decorated the `PlayingCard` class by the\n",
    "expression, `PlayingCard = dataclass(PlayingCard)`.\n",
    "\n",
    "A common use case of class decorators is to be a simpler alternative\n",
    "to some use cases of **metaclasses**. In both cases, one is changing\n",
    "the definition of a class **dynamically**."
   ],
   "id": "2414a56e5fd181bf"
  },
  {
   "metadata": {},
   "cell_type": "markdown",
   "source": [
    "Writing a class decorator is similar to writing a function decorator.\n",
    "The only difference is that the decorator will receive a **class**\n",
    "and not a function as an arguments. In fact, all the decorators in\n",
    "our previous notebooks **will** work as class decorators.\n",
    "\n",
    "However, when you're using these decorators on a class method instead\n",
    "of a function, their effect **might not be what you want."
   ],
   "id": "34dfb7f321d5f44f"
  },
  {
   "metadata": {},
   "cell_type": "markdown",
   "source": "For example, let's apply the `@timer` decorator to a class.",
   "id": "265abba381311f43"
  },
  {
   "metadata": {
    "ExecuteTime": {
     "end_time": "2024-11-24T21:00:41.646733Z",
     "start_time": "2024-11-24T21:00:41.644993Z"
    }
   },
   "cell_type": "code",
   "source": [
    "@timer\n",
    "class TimeWaster:\n",
    "    def __init__(self, max_num):\n",
    "        self.max_num = max_num\n",
    "\n",
    "    def waste_time(self, num_times):\n",
    "        for _ in range(num_times):\n",
    "            sum([i ** 2 for i in range(self.max_num)])"
   ],
   "id": "a8222dce95b670d5",
   "outputs": [],
   "execution_count": 5
  },
  {
   "metadata": {},
   "cell_type": "markdown",
   "source": [
    "Decorating a class **doesn't** decorate its methods. Instead, `@timer`\n",
    "only measures the time it takes to instantiate the class."
   ],
   "id": "3ebfeeac51ef7770"
  },
  {
   "metadata": {
    "ExecuteTime": {
     "end_time": "2024-11-24T21:00:41.652189Z",
     "start_time": "2024-11-24T21:00:41.650729Z"
    }
   },
   "cell_type": "code",
   "source": "tw = TimeWaster(1000)",
   "id": "98cf64aaa8827d98",
   "outputs": [
    {
     "name": "stdout",
     "output_type": "stream",
     "text": [
      "Finished 'TimeWaster' in 0.0000 seconds\n"
     ]
    }
   ],
   "execution_count": 6
  },
  {
   "metadata": {
    "ExecuteTime": {
     "end_time": "2024-11-24T21:00:41.693820Z",
     "start_time": "2024-11-24T21:00:41.656057Z"
    }
   },
   "cell_type": "code",
   "source": "tw.waste_time(999)",
   "id": "78f281aabb9b2990",
   "outputs": [],
   "execution_count": 7
  },
  {
   "metadata": {},
   "cell_type": "markdown",
   "source": [
    "Note that the output of `@timer` is only printed when the instance,\n",
    "`tw`, is created. The call to `waste_time()` **is not timed**.\n",
    "\n",
    "Later, we'll see an example of defining a proper class decorator,\n",
    "namely, `@singleton`, which ensures that only one instance of\n",
    "class exists at runtime."
   ],
   "id": "9ec9dd5c293b2a94"
  },
  {
   "metadata": {},
   "cell_type": "markdown",
   "source": "## Nesting Decorators",
   "id": "ed67490b94433ed4"
  },
  {
   "metadata": {},
   "cell_type": "markdown",
   "source": [
    "One can _apply several decorators_ to a function at once by stacking\n",
    "them on top of each other."
   ],
   "id": "199918e21bde57f8"
  },
  {
   "metadata": {
    "ExecuteTime": {
     "end_time": "2024-11-24T21:00:41.699257Z",
     "start_time": "2024-11-24T21:00:41.697721Z"
    }
   },
   "cell_type": "code",
   "source": [
    "from decorators import trace, do_twice\n",
    "\n",
    "@trace\n",
    "@do_twice\n",
    "def greet(name):\n",
    "    print(f'Hello {name}')"
   ],
   "id": "3d0f1691e6dcc4a0",
   "outputs": [],
   "execution_count": 8
  },
  {
   "metadata": {},
   "cell_type": "markdown",
   "source": [
    "Remember that applying two decorators as we do previously results in\n",
    "\n",
    "- `@trace calls @do_twice which calls `greet()`\n",
    "\n",
    "which is the same as `trace(do_twice(greet()))"
   ],
   "id": "7980a2b81d991e48"
  },
  {
   "metadata": {
    "ExecuteTime": {
     "end_time": "2024-11-24T21:00:41.704360Z",
     "start_time": "2024-11-24T21:00:41.702908Z"
    }
   },
   "cell_type": "code",
   "source": "greet('Yadi')",
   "id": "1f986b04fc646efa",
   "outputs": [
    {
     "name": "stdout",
     "output_type": "stream",
     "text": [
      "Calling greet('Yadi')\n",
      "Hello Yadi\n",
      "Hello Yadi\n",
      "greet() returns None\n"
     ]
    }
   ],
   "execution_count": 9
  },
  {
   "metadata": {},
   "cell_type": "markdown",
   "source": [
    "The greeting is printed twice because of `@do_twice`. However, the\n",
    "output from `@trace` is only shown **once** since the call to `trace`\n",
    "occurs **before** the `@do_twice` decorator."
   ],
   "id": "a7c1d2a3fafad1a3"
  },
  {
   "metadata": {
    "ExecuteTime": {
     "end_time": "2024-11-24T21:00:41.709585Z",
     "start_time": "2024-11-24T21:00:41.707887Z"
    }
   },
   "cell_type": "code",
   "source": [
    "@do_twice\n",
    "@trace\n",
    "def greet(name):\n",
    "    print(f'Hello {name}')\n",
    "\n",
    "greet('Yadi')"
   ],
   "id": "e1aa16b290984638",
   "outputs": [
    {
     "name": "stdout",
     "output_type": "stream",
     "text": [
      "Calling greet('Yadi')\n",
      "Hello Yadi\n",
      "greet() returns None\n",
      "Calling greet('Yadi')\n",
      "Hello Yadi\n",
      "greet() returns None\n"
     ]
    }
   ],
   "execution_count": 10
  },
  {
   "metadata": {},
   "cell_type": "markdown",
   "source": [
    "Here, `@do_twice` is applied to @trace. Consequently, one can see that\n",
    "both calls to `greet()` are annotated with trace information."
   ],
   "id": "9f8f9aa5106722eb"
  },
  {
   "metadata": {},
   "cell_type": "markdown",
   "source": "## Defining Decorators with Arguments",
   "id": "9bc4269654a785ca"
  },
  {
   "metadata": {},
   "cell_type": "markdown",
   "source": [
    "Sometimes, it is useful to _pass arguments to your decorators_. For\n",
    "instance, `@do_twice` could be extended to a `@repeat(num_times)`\n",
    "decorator. In this situation, the number of repetitions could be\n",
    "given as an argument."
   ],
   "id": "c518430333b66015"
  },
  {
   "metadata": {
    "ExecuteTime": {
     "end_time": "2024-11-24T21:00:41.783597Z",
     "start_time": "2024-11-24T21:00:41.781696Z"
    }
   },
   "cell_type": "code",
   "source": "from decorators import repeat",
   "id": "d4ac7b927b7bed77",
   "outputs": [],
   "execution_count": 11
  },
  {
   "metadata": {},
   "cell_type": "markdown",
   "source": [
    "There are a few subtle things happening in the `repeat()` function:\n",
    "\n",
    "- Defining `decorator_repeat()` as an inner function means that\n",
    "  `repeat()` refers to a function object, `decorator_repeat`. Earlier,\n",
    "  you used decorators like `@do_twice` **without** parentheses. Now,\n",
    "  you **must** add parentheses when setting up the decorator, as in\n",
    "  `@repeat()`. This is required to **add arguments**.\n",
    "- The `num_times` argument is seemingly not used in `repeat()` itself.\n",
    "  But by passing `num_times` to `repeat()`, a **closure** is created\n",
    "  where the value of `num_times` is stored until `wrapper_repeat()`\n",
    "  uses it later."
   ],
   "id": "6d846f48fc4e0204"
  },
  {
   "metadata": {},
   "cell_type": "markdown",
   "source": "Here are our results:",
   "id": "3e26a5fc6f502c8a"
  },
  {
   "metadata": {
    "ExecuteTime": {
     "end_time": "2024-11-24T21:00:41.802077Z",
     "start_time": "2024-11-24T21:00:41.799898Z"
    }
   },
   "cell_type": "code",
   "source": [
    "@repeat(num_times=4)\n",
    "def greet(name):\n",
    "    print('Hello', name)\n",
    "\n",
    "greet('World)')"
   ],
   "id": "d0f1f77f6450bb5f",
   "outputs": [
    {
     "name": "stdout",
     "output_type": "stream",
     "text": [
      "Hello World)\n",
      "Hello World)\n",
      "Hello World)\n",
      "Hello World)\n"
     ]
    }
   ],
   "execution_count": 12
  },
  {
   "metadata": {},
   "cell_type": "markdown",
   "source": "## Creating Decorators with Optional Arguments",
   "id": "a56657bc6dbb303f"
  },
  {
   "metadata": {},
   "cell_type": "markdown",
   "source": [
    "With a little bit of care, you can also define _decorators that can\n",
    "be used both with and without arguments.\n",
    "\n",
    "When a decorator uses arguments, you need to add an extra outer function.\n",
    "The challenge now is for your code to figure out if you've called the\n",
    "decorator with or without arguments. This means that the decorator\n",
    "arguments must all be specified by keyword. You can enforce this with the\n",
    "special asterisk (`*`) syntax, which means that **all the following\n",
    "parameters are keyword-only**."
   ],
   "id": "e82d54afc9daf078"
  },
  {
   "metadata": {},
   "cell_type": "markdown",
   "source": [
    "For example,\n",
    "\n",
    "```python\n",
    "def name(_func=None, *, key1=value1, key2=value2, ...):\n",
    "    def decorator_name(func):\n",
    "        # ... # Create and return a wrapper function.\n",
    "\n",
    "    if _func is None:\n",
    "        return decorator_name\n",
    "    else:\n",
    "        return decorator_name(_func)\n",
    "```\n"
   ],
   "id": "217b79cf2f1196a8"
  }
 ],
 "metadata": {
  "kernelspec": {
   "display_name": "Python 3",
   "language": "python",
   "name": "python3"
  },
  "language_info": {
   "codemirror_mode": {
    "name": "ipython",
    "version": 2
   },
   "file_extension": ".py",
   "mimetype": "text/x-python",
   "name": "python",
   "nbconvert_exporter": "python",
   "pygments_lexer": "ipython2",
   "version": "2.7.6"
  }
 },
 "nbformat": 4,
 "nbformat_minor": 5
}

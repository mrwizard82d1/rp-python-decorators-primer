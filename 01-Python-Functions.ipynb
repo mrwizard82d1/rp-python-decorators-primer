{
 "cells": [
  {
   "metadata": {},
   "cell_type": "markdown",
   "source": "# Python Functions",
   "id": "ca9615f4c595765a"
  },
  {
   "metadata": {},
   "cell_type": "markdown",
   "source": "### First-Class Objects",
   "id": "8b503bab39632926"
  },
  {
   "metadata": {},
   "cell_type": "code",
   "source": [
    "def say_hello(name):\n",
    "    return f'Hello, {name}!'\n",
    "\n",
    "def be_awesome(name):\n",
    "    return f\"Yo {name}, together we're the awesomest!\"\n",
    "\n",
    "def greet_bob(greeter_func):\n",
    "    return greeter_func('Bob')"
   ],
   "id": "6d659d57482d8692",
   "outputs": [],
   "execution_count": null
  },
  {
   "metadata": {},
   "cell_type": "code",
   "source": "greet_bob(say_hello)",
   "id": "4c927855122baa94",
   "outputs": [],
   "execution_count": null
  },
  {
   "metadata": {},
   "cell_type": "code",
   "source": "greet_bob(be_awesome)",
   "id": "67807140216ed0d4",
   "outputs": [],
   "execution_count": null
  },
  {
   "metadata": {},
   "cell_type": "markdown",
   "source": "### Inner Functions",
   "id": "7858fa8c42a27c2a"
  },
  {
   "metadata": {},
   "cell_type": "code",
   "source": [
    "def parent():\n",
    "    print('Printing from parent()')\n",
    "\n",
    "    def first_child():\n",
    "        print('Printing from first_child()')\n",
    "\n",
    "    def second_child():\n",
    "        print('Printing from second_child()')\n",
    "\n",
    "    second_child()\n",
    "    first_child()"
   ],
   "id": "2be6e1be6a28addf",
   "outputs": [],
   "execution_count": null
  },
  {
   "metadata": {},
   "cell_type": "markdown",
   "source": "What happens when you call the `parent()` function?",
   "id": "3a65be2166f1b2ad"
  },
  {
   "metadata": {},
   "cell_type": "code",
   "source": [
    "# Prints\n",
    "# - parent message\n",
    "# - second child message\n",
    "# - first child message\n",
    "parent()"
   ],
   "id": "7fbaab19091cfeb6",
   "outputs": [],
   "execution_count": null
  },
  {
   "metadata": {},
   "cell_type": "markdown",
   "source": "Can you call either `first_child()` or `second_child() **outside** `parent`?",
   "id": "ccc082a71a4db85a"
  },
  {
   "metadata": {},
   "cell_type": "code",
   "source": [
    "try:\n",
    "    first_child()\n",
    "except NameError as ne:\n",
    "    print(f'Exception {type(ne).__name__}: {ne}')"
   ],
   "id": "a69c6d4f02024e7",
   "outputs": [],
   "execution_count": null
  },
  {
   "metadata": {},
   "cell_type": "markdown",
   "source": "### Functions as Return Values",
   "id": "c5facbd87faab861"
  },
  {
   "metadata": {},
   "cell_type": "code",
   "source": [
    "# Returns a **function** defined inside `parent()`\n",
    "def parent(num):\n",
    "    def first_child():\n",
    "        return \"Hi, I'm Elias\"\n",
    "\n",
    "    def second_child():\n",
    "        return \"Call me Ester\"\n",
    "\n",
    "    # Returns a **reference** to a function; that is,\n",
    "    # the returned function is **not** executed.\n",
    "    if num == 1:\n",
    "        return first_child\n",
    "    else:\n",
    "        return second_child"
   ],
   "id": "fa9fc6d1e634428",
   "outputs": [],
   "execution_count": null
  },
  {
   "metadata": {},
   "cell_type": "code",
   "source": "parent(1)",
   "id": "ffd903a43a31a5b2",
   "outputs": [],
   "execution_count": null
  },
  {
   "metadata": {},
   "cell_type": "code",
   "source": "parent(1)()",
   "id": "3203f2af0de8d338",
   "outputs": [],
   "execution_count": null
  },
  {
   "metadata": {},
   "cell_type": "code",
   "source": "parent(2)",
   "id": "c31d982a400bb52a",
   "outputs": [],
   "execution_count": null
  },
  {
   "metadata": {},
   "cell_type": "code",
   "source": "parent(2)()",
   "id": "cba96295af3c1dae",
   "outputs": [],
   "execution_count": null
  },
  {
   "metadata": {},
   "cell_type": "markdown",
   "source": "If we remember the return values, we can **execute** the functions at a later time.",
   "id": "5249aeefbfad4089"
  },
  {
   "metadata": {},
   "cell_type": "code",
   "source": [
    "first = parent(1)\n",
    "second = parent(2)"
   ],
   "id": "67de80edbcb8ad18",
   "outputs": [],
   "execution_count": null
  },
  {
   "metadata": {},
   "cell_type": "code",
   "source": "first()",
   "id": "24fecd4cd5fabb6c",
   "outputs": [],
   "execution_count": null
  },
  {
   "metadata": {},
   "cell_type": "code",
   "source": "second()",
   "id": "af94240629b6e16b",
   "outputs": [],
   "execution_count": null
  },
  {
   "metadata": {},
   "cell_type": "code",
   "source": "",
   "id": "b8927626e0ca51d1",
   "outputs": [],
   "execution_count": null
  }
 ],
 "metadata": {
  "kernelspec": {
   "display_name": "Python 3",
   "language": "python",
   "name": "python3"
  },
  "language_info": {
   "codemirror_mode": {
    "name": "ipython",
    "version": 2
   },
   "file_extension": ".py",
   "mimetype": "text/x-python",
   "name": "python",
   "nbconvert_exporter": "python",
   "pygments_lexer": "ipython2",
   "version": "2.7.6"
  }
 },
 "nbformat": 4,
 "nbformat_minor": 5
}

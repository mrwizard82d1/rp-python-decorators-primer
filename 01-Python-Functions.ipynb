{
 "cells": [
  {
   "metadata": {},
   "cell_type": "markdown",
   "source": "# Python Functions",
   "id": "ca9615f4c595765a"
  },
  {
   "cell_type": "code",
   "id": "initial_id",
   "metadata": {
    "collapsed": true
   },
   "source": [
    "def add_one(number):\n",
    "    return number + 1\n",
    "\n",
    "add_one(2)"
   ],
   "outputs": [],
   "execution_count": null
  },
  {
   "metadata": {},
   "cell_type": "markdown",
   "source": "### First-Class Objects",
   "id": "8b503bab39632926"
  },
  {
   "metadata": {},
   "cell_type": "code",
   "source": [
    "def say_hello(name):\n",
    "    return f'Hello, {name}!'\n",
    "\n",
    "def be_awesome(name):\n",
    "    return f\"Yo {name}, together we're the awesomest!\"\n",
    "\n",
    "def greet_bob(greeter_func):\n",
    "    return greeter_func('Bob')"
   ],
   "id": "6d659d57482d8692",
   "outputs": [],
   "execution_count": null
  },
  {
   "metadata": {},
   "cell_type": "code",
   "source": "greet_bob(say_hello)",
   "id": "4c927855122baa94",
   "outputs": [],
   "execution_count": null
  },
  {
   "metadata": {},
   "cell_type": "code",
   "source": "greet_bob(be_awesome)",
   "id": "67807140216ed0d4",
   "outputs": [],
   "execution_count": null
  },
  {
   "metadata": {},
   "cell_type": "markdown",
   "source": "### Inner Functions",
   "id": "7858fa8c42a27c2a"
  },
  {
   "metadata": {},
   "cell_type": "code",
   "source": [
    "def parent():\n",
    "    print('Printing from parent()')\n",
    "\n",
    "    def first_child():\n",
    "        print('Printing from first_child()')\n",
    "\n",
    "    def second_child():\n",
    "        print('Printing from second_child()')\n",
    "\n",
    "    second_child()\n",
    "    first_child()"
   ],
   "id": "2be6e1be6a28addf",
   "outputs": [],
   "execution_count": null
  },
  {
   "metadata": {},
   "cell_type": "markdown",
   "source": "What happens when you call the `parent()` function?",
   "id": "3a65be2166f1b2ad"
  },
  {
   "metadata": {},
   "cell_type": "code",
   "source": [
    "# Prints\n",
    "# - parent message\n",
    "# - second child message\n",
    "# - first child message\n",
    "parent()"
   ],
   "id": "7fbaab19091cfeb6",
   "outputs": [],
   "execution_count": null
  },
  {
   "metadata": {},
   "cell_type": "markdown",
   "source": "Can you call either `first_child()` or `second_child() **outside** `parent`?",
   "id": "ccc082a71a4db85a"
  },
  {
   "metadata": {},
   "cell_type": "code",
   "source": [
    "try:\n",
    "    first_child()\n",
    "except NameError as ne:\n",
    "    print(f'Exception {type(ne).__name__}: {ne}')"
   ],
   "id": "a69c6d4f02024e7",
   "outputs": [],
   "execution_count": null
  },
  {
   "metadata": {},
   "cell_type": "markdown",
   "source": "### Functions as Return Values",
   "id": "c5facbd87faab861"
  },
  {
   "metadata": {},
   "cell_type": "code",
   "source": [
    "# Returns a **function** defined inside `parent()`\n",
    "def parent(num):\n",
    "    def first_child():\n",
    "        return \"Hi, I'm Elias\"\n",
    "\n",
    "    def second_child():\n",
    "        return \"Call me Ester\"\n",
    "\n",
    "    # Returns a **reference** to a function; that is,\n",
    "    # the returned function is **not** executed.\n",
    "    if num == 1:\n",
    "        return first_child\n",
    "    else:\n",
    "        return second_child"
   ],
   "id": "fa9fc6d1e634428",
   "outputs": [],
   "execution_count": null
  },
  {
   "metadata": {},
   "cell_type": "code",
   "source": "parent(1)",
   "id": "ffd903a43a31a5b2",
   "outputs": [],
   "execution_count": null
  },
  {
   "metadata": {},
   "cell_type": "code",
   "source": "parent(1)()",
   "id": "3203f2af0de8d338",
   "outputs": [],
   "execution_count": null
  },
  {
   "metadata": {},
   "cell_type": "code",
   "source": "parent(2)",
   "id": "c31d982a400bb52a",
   "outputs": [],
   "execution_count": null
  },
  {
   "metadata": {},
   "cell_type": "code",
   "source": "parent(2)()",
   "id": "cba96295af3c1dae",
   "outputs": [],
   "execution_count": null
  },
  {
   "metadata": {},
   "cell_type": "markdown",
   "source": "If we remember the return values, we can **execute** the functions at a later time.",
   "id": "5249aeefbfad4089"
  },
  {
   "metadata": {},
   "cell_type": "code",
   "source": [
    "first = parent(1)\n",
    "second = parent(2)"
   ],
   "id": "67de80edbcb8ad18",
   "outputs": [],
   "execution_count": null
  },
  {
   "metadata": {},
   "cell_type": "code",
   "source": "first()",
   "id": "24fecd4cd5fabb6c",
   "outputs": [],
   "execution_count": null
  },
  {
   "metadata": {},
   "cell_type": "code",
   "source": "second()",
   "id": "af94240629b6e16b",
   "outputs": [],
   "execution_count": null
  },
  {
   "metadata": {},
   "cell_type": "markdown",
   "source": "## Simple Decorators in Python",
   "id": "97c13ac25755da58"
  },
  {
   "metadata": {},
   "cell_type": "markdown",
   "source": "An example",
   "id": "c768eb985ad3f460"
  },
  {
   "metadata": {},
   "cell_type": "code",
   "source": [
    "def decorator(func):\n",
    "    def wrapper():\n",
    "        print('Something is happening **before** the function is called.')\n",
    "        func()\n",
    "        print('Something is happening **after** the function is called.')\n",
    "    return wrapper\n",
    "\n",
    "def say_whee():\n",
    "    print('Whee!')\n",
    "\n",
    "say_whee = decorator(say_whee)"
   ],
   "id": "b8927626e0ca51d1",
   "outputs": [],
   "execution_count": null
  },
  {
   "metadata": {},
   "cell_type": "code",
   "source": [
    "say_whee()\n",
    "\n"
   ],
   "id": "85a66a4d15ff1f8d",
   "outputs": [],
   "execution_count": null
  },
  {
   "metadata": {},
   "cell_type": "markdown",
   "source": [
    "Remember, the so-called \"decoration\" happens when the line\n",
    "\n",
    "`say_whee = decorator(say_whee)`\n",
    "\n",
    "is executed. This line simply re-binds `say_whee` to the\n",
    "inner function, `wrapper`, returned by `decorator()`."
   ],
   "id": "fe0cf3ada09517c0"
  },
  {
   "metadata": {},
   "cell_type": "code",
   "source": "say_whee",
   "id": "3f548054e78ee16",
   "outputs": [],
   "execution_count": null
  },
  {
   "metadata": {},
   "cell_type": "markdown",
   "source": [
    "Remember that `say_whee` now has a **refence** to the original `say_whee`\n",
    "function as the value of argument, `func`. It calls the original `say_whee`\n",
    "function between the two calls to `print()`."
   ],
   "id": "50e6ddb78bcf5932"
  },
  {
   "metadata": {},
   "cell_type": "markdown",
   "source": [
    "Let's look at a second example.\n",
    "\n",
    "In this example, the wrapper modifies the wrapped function **dynamically**.\n",
    "\n",
    "Here's an example."
   ],
   "id": "f048ba4d7f60ce98"
  },
  {
   "metadata": {},
   "cell_type": "code",
   "source": [
    "from datetime import datetime\n",
    "\n",
    "def not_during_the_night(func):\n",
    "    def wrapper():\n",
    "        if 7 <= datetime.now().hour < 22:\n",
    "            func()\n",
    "        else:\n",
    "            pass  # Hush, the neighbors are asleep.\n",
    "    return wrapper\n",
    "\n",
    "def say_whee():\n",
    "    print('Whee!')\n",
    "\n",
    "say_whee = not_during_the_night(say_whee)"
   ],
   "id": "721784e5b3ca6f44",
   "outputs": [],
   "execution_count": null
  },
  {
   "metadata": {},
   "cell_type": "markdown",
   "source": [
    "The effect of `say_whee()` is **different** depending on the time of day.\n",
    "\n",
    "For example, calling `say_whee()` between 7am and 10pm (0700 and 2200)\n",
    "will print a \"loud\" message, 'Whee!'. But between 10pm (2200) and\n",
    "7am (0700), calling `say_whee()` will do nothing (simply returning `None`).\n"
   ],
   "id": "2df99066dee8da65"
  },
  {
   "metadata": {},
   "cell_type": "code",
   "source": "say_whee()",
   "id": "90b57bf5d5e05d7f",
   "outputs": [],
   "execution_count": null
  },
  {
   "metadata": {},
   "cell_type": "markdown",
   "source": "### Adding Syntactic Sugar",
   "id": "3962687cb88a868e"
  },
  {
   "metadata": {},
   "cell_type": "markdown",
   "source": [
    "The following example accomplishes the exact same goal as our\n",
    "\"Simple Decorators in Python\" section above."
   ],
   "id": "38a1a3433621c60b"
  },
  {
   "metadata": {},
   "cell_type": "code",
   "source": [
    "def decorator(func):\n",
    "    def wrapper():\n",
    "        print('Something is happening **before** the function is called.')\n",
    "        func()\n",
    "        print('Something is happening **after** the function is called.')\n",
    "    return wrapper\n",
    "\n",
    "@decorator\n",
    "def say_whee():\n",
    "    print('Whee!')\n",
    "\n",
    "say_whee()"
   ],
   "id": "98e532ef18c6974d",
   "outputs": [],
   "execution_count": null
  },
  {
   "metadata": {},
   "cell_type": "markdown",
   "source": "### Reusing Decorators",
   "id": "a860c14ee2bb94ab"
  },
  {
   "metadata": {},
   "cell_type": "markdown",
   "source": [
    "Let's define a new decorator.\n",
    "\n",
    "As a technique to ease our memory load, we'll name the wrapper function\n",
    "something like, `wrapper_<foo>` where `<foo>` is a placeholder containing\n",
    "the name of the outermost function."
   ],
   "id": "c3682f2d277e9094"
  },
  {
   "metadata": {},
   "cell_type": "code",
   "source": [
    "# This decorator calls the decorated `func` twice.\n",
    "def do_twice(func):\n",
    "    def wrapper_do_twice():\n",
    "        func()\n",
    "        func()\n",
    "    return wrapper_do_twice"
   ],
   "id": "f8a0bf200dcf4923",
   "outputs": [],
   "execution_count": null
  },
  {
   "metadata": {},
   "cell_type": "code",
   "source": [
    "@do_twice\n",
    "def say_whee():\n",
    "    print('Whee!')\n",
    "say_whee()"
   ],
   "id": "2854abb111e8d5f6",
   "outputs": [],
   "execution_count": null
  },
  {
   "metadata": {},
   "cell_type": "markdown",
   "source": "### Decorating functions with arguments",
   "id": "ff586f790034efd7"
  },
  {
   "metadata": {},
   "cell_type": "markdown",
   "source": "First, the **wrong** way.",
   "id": "bbf58389d6a777a5"
  },
  {
   "metadata": {},
   "cell_type": "code",
   "source": [
    "@do_twice\n",
    "def greet(name):\n",
    "    print(f'Hello, {name}!')"
   ],
   "id": "5d0424103c578146",
   "outputs": [],
   "execution_count": null
  },
  {
   "metadata": {},
   "cell_type": "code",
   "source": [
    "try:\n",
    "    greet('World')\n",
    "except Exception as e:\n",
    "    print(f'Exception {type(e).__name__}: {e}')"
   ],
   "id": "54bba2965b70f787",
   "outputs": [],
   "execution_count": null
  },
  {
   "metadata": {},
   "cell_type": "markdown",
   "source": [
    "The problem is that the inner function, `wrapper_do_twice`, takes\n",
    "**no** arguments, but we **actually** passed the argument \"World.\"\n",
    "\n",
    "One fix would be to add an argument to the `wrapper_do_twice()`\n",
    "function; however, this change would cause an exception when\n",
    "calling the decorated function, `say_whee()`.\n",
    "\n",
    "The solution is to use `*args` and `**kwargs` in the inner wrapped\n",
    "function. This construct allows the inner function to take **any**\n",
    "number of positional and **any** number of keyword arguments."
   ],
   "id": "1988ebc73ed9d982"
  },
  {
   "metadata": {},
   "cell_type": "markdown",
   "source": "Let's rewrite `wrapper_do_twice()` to expect these arguments.",
   "id": "3ad7262abd8cf295"
  },
  {
   "metadata": {},
   "cell_type": "code",
   "source": [
    "def do_twice(func):\n",
    "    def wrapper_do_twice(*args, **kwargs):\n",
    "        func(*args, **kwargs)\n",
    "        func(*args, **kwargs)\n",
    "    return wrapper_do_twice"
   ],
   "id": "68210d8e208c6088",
   "outputs": [],
   "execution_count": null
  },
  {
   "metadata": {},
   "cell_type": "code",
   "source": [
    "@do_twice\n",
    "def say_whee():\n",
    "    print('Whee!')\n",
    "\n",
    "say_whee()"
   ],
   "id": "b18f8fee877b4cac",
   "outputs": [],
   "execution_count": null
  },
  {
   "metadata": {},
   "cell_type": "code",
   "source": [
    "@do_twice\n",
    "def greet(name):\n",
    "    print(f'Hello, {name}!')\n",
    "\n",
    "greet('World')"
   ],
   "id": "2ca0ee43932c855a",
   "outputs": [],
   "execution_count": null
  },
  {
   "metadata": {},
   "cell_type": "markdown",
   "source": "### Returning Values from Decorated Functions",
   "id": "37ca684aecdfb1e9"
  },
  {
   "metadata": {},
   "cell_type": "markdown",
   "source": [
    "What happens to the returned value of a decorated function?\n",
    "\n",
    "That behavior is actually controlled by the **decorator**.\n",
    "\n",
    "Let's see this in action."
   ],
   "id": "b497dc49d77d1440"
  },
  {
   "metadata": {},
   "cell_type": "code",
   "source": [
    "@do_twice\n",
    "def return_greeting(name):\n",
    "    print('Creating a greeting')\n",
    "    return f'Hi, {name}!'"
   ],
   "id": "f61ab9cb0fae647b",
   "outputs": [],
   "execution_count": null
  },
  {
   "metadata": {},
   "cell_type": "markdown",
   "source": "Now let's try to use `return_greeting`.",
   "id": "9311772c8a3057ad"
  },
  {
   "metadata": {},
   "cell_type": "code",
   "source": "hi_adam = return_greeting('Adam')",
   "id": "d7fa0dcce8c6ba34",
   "outputs": [],
   "execution_count": null
  },
  {
   "metadata": {},
   "cell_type": "code",
   "source": "print(hi_adam)",
   "id": "6370f0c563d58463",
   "outputs": [],
   "execution_count": null
  },
  {
   "metadata": {},
   "cell_type": "markdown",
   "source": [
    "In this situation, our wrapper \"ate\" the returned value.\n",
    "\n",
    "To repair this issue, our decorator **must** return any result from\n",
    "the inner function. (For example, `wrapper_do_twice()`.)\n"
   ],
   "id": "faf9dff3b727bd94"
  },
  {
   "metadata": {},
   "cell_type": "markdown",
   "source": [
    "Let('s change `wrapper_do_twice()`, the inner function of our decorator,\n",
    "`do_twice()`"
   ],
   "id": "564f5d08bd6c5658"
  },
  {
   "metadata": {},
   "cell_type": "code",
   "source": [
    "def do_twice(func):\n",
    "    def wrapper_do_twice(*args, **kwargs):\n",
    "        func(*args, **kwargs)\n",
    "        return func(*args, **kwargs)\n",
    "    return wrapper_do_twice"
   ],
   "id": "c9a6c8fe55db96f8",
   "outputs": [],
   "execution_count": null
  },
  {
   "metadata": {},
   "cell_type": "code",
   "source": [
    "@do_twice\n",
    "def greet(name):\n",
    "    print('Creating a greeting')\n",
    "    return f'Hi, {name}!'"
   ],
   "id": "ab4ee64ac43c9834",
   "outputs": [],
   "execution_count": null
  },
  {
   "metadata": {},
   "cell_type": "markdown",
   "source": "This time, the result of the (second) wrapped function is returned!",
   "id": "be3906715187f837"
  },
  {
   "metadata": {},
   "cell_type": "code",
   "source": "greet('Adam')",
   "id": "c1160e6151fe255d",
   "outputs": [],
   "execution_count": null
  },
  {
   "metadata": {},
   "cell_type": "markdown",
   "source": "### Finding Yourself",
   "id": "315265502edf9a6d"
  },
  {
   "metadata": {},
   "cell_type": "markdown",
   "source": [
    "How does one fit a decorated function into the Python ecosystem?\n",
    "Specifically, how does one fit into Python introspection?\n",
    "\n",
    "Here's an example."
   ],
   "id": "c24a3400a7b1ec96"
  },
  {
   "metadata": {},
   "cell_type": "code",
   "source": "print",
   "id": "7330bd7902dd2cdb",
   "outputs": [],
   "execution_count": null
  },
  {
   "metadata": {},
   "cell_type": "code",
   "source": "print.__name__",
   "id": "b75120a5da1620d9",
   "outputs": [],
   "execution_count": null
  },
  {
   "metadata": {},
   "cell_type": "code",
   "source": "help(print)",
   "id": "df7a10ca17f750a0",
   "outputs": [],
   "execution_count": null
  },
  {
   "metadata": {},
   "cell_type": "markdown",
   "source": "This same behavior applies to functions that I write.",
   "id": "7148c465c938c9c8"
  },
  {
   "metadata": {},
   "cell_type": "code",
   "source": [
    "def snafu():\n",
    "    print('Situation normal, all fouled up.')\n",
    "\n",
    "print(snafu)\n",
    "print(snafu.__name__)\n",
    "help(snafu)"
   ],
   "id": "dc201496c4e7881c",
   "outputs": [],
   "execution_count": null
  },
  {
   "metadata": {},
   "cell_type": "markdown",
   "source": [
    "\n",
    "\n",
    "However, notice that **after** decorating a function I wrote, the information\n",
    "is \"less\" helpful."
   ],
   "id": "9228a66648e948fe"
  },
  {
   "metadata": {},
   "cell_type": "code",
   "source": "say_whee",
   "id": "6380cd580a1e67c1",
   "outputs": [],
   "execution_count": null
  },
  {
   "metadata": {},
   "cell_type": "code",
   "source": "say_whee.__name__",
   "id": "39cb081b20adfc55",
   "outputs": [],
   "execution_count": null
  },
  {
   "metadata": {},
   "cell_type": "code",
   "source": "help(say_whee)",
   "id": "854486c03bb03207",
   "outputs": [],
   "execution_count": null
  },
  {
   "metadata": {},
   "cell_type": "markdown",
   "source": [
    "To fix this issue, we will use **another** decorator, `functools.wrap`,\n",
    "to decorate our **wrapped** function."
   ],
   "id": "4e7b3bf95eff29ae"
  },
  {
   "metadata": {},
   "cell_type": "code",
   "source": [
    "import functools\n",
    "\n",
    "def do_twice(func):\n",
    "    @functools.wraps(func)\n",
    "    def wrapper_do_twice(*args, **kwargs):\n",
    "        func(*args, **kwargs)\n",
    "        return func(*args, **kwargs)\n",
    "    return wrapper_do_twice"
   ],
   "id": "fc68694bba7924fa",
   "outputs": [],
   "execution_count": null
  },
  {
   "metadata": {},
   "cell_type": "code",
   "source": [
    "@do_twice\n",
    "def say_whee():\n",
    "    print('Whee!')"
   ],
   "id": "866b70f982e72cab",
   "outputs": [],
   "execution_count": null
  },
  {
   "metadata": {},
   "cell_type": "code",
   "source": "say_whee",
   "id": "b21e2a540b0bbba",
   "outputs": [],
   "execution_count": null
  },
  {
   "metadata": {},
   "cell_type": "code",
   "source": "say_whee.__name__",
   "id": "9645c814ffe81ecd",
   "outputs": [],
   "execution_count": null
  },
  {
   "metadata": {},
   "cell_type": "code",
   "source": "help(say_whee)",
   "id": "1d698d43328335fd",
   "outputs": [],
   "execution_count": null
  },
  {
   "metadata": {},
   "cell_type": "markdown",
   "source": [
    "**Note:** The `@functools.wraps` decorator actually uses\n",
    "`@functools.update_wrapper()` to update special attributes like\n",
    "`__name__` and `__doc__` that are used in introspection."
   ],
   "id": "93d079030caf43ee"
  },
  {
   "metadata": {},
   "cell_type": "code",
   "source": "",
   "id": "fe15f9e951ba2bc",
   "outputs": [],
   "execution_count": null
  }
 ],
 "metadata": {
  "kernelspec": {
   "display_name": "Python 3",
   "language": "python",
   "name": "python3"
  },
  "language_info": {
   "codemirror_mode": {
    "name": "ipython",
    "version": 2
   },
   "file_extension": ".py",
   "mimetype": "text/x-python",
   "name": "python",
   "nbconvert_exporter": "python",
   "pygments_lexer": "ipython2",
   "version": "2.7.6"
  }
 },
 "nbformat": 4,
 "nbformat_minor": 5
}

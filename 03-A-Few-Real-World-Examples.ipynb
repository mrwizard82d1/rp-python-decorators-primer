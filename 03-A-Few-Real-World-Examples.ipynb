{
 "cells": [
  {
   "metadata": {},
   "cell_type": "markdown",
   "source": "# A Few Real World Examples",
   "id": "675541f266178eb5"
  },
  {
   "metadata": {},
   "cell_type": "markdown",
   "source": "A good boilerplate template.",
   "id": "82f0120e5064dc94"
  },
  {
   "metadata": {
    "ExecuteTime": {
     "end_time": "2024-11-24T03:33:40.310046Z",
     "start_time": "2024-11-24T03:33:40.306304Z"
    }
   },
   "cell_type": "code",
   "source": [
    "def decorator(func):\n",
    "    @functools.wraps(func)\n",
    "    def wrapper_decorator(*args, **kwargs):\n",
    "        # Do something before\n",
    "        value = func(*args, **kwargs)\n",
    "        # Do something after\n",
    "        return value\n",
    "    return wrapper_decorator"
   ],
   "id": "dc405036ade37584",
   "outputs": [],
   "execution_count": 1
  },
  {
   "metadata": {},
   "cell_type": "markdown",
   "source": "## Timing Functions",
   "id": "3ebd0b444b6da162"
  },
  {
   "metadata": {
    "ExecuteTime": {
     "end_time": "2024-11-24T03:33:40.320918Z",
     "start_time": "2024-11-24T03:33:40.317983Z"
    }
   },
   "cell_type": "code",
   "source": [
    "import functools\n",
    "import time\n",
    "\n",
    "def timer(func):\n",
    "    \"\"\"Print the runtime of the decorated function.\"\"\"\n",
    "    @functools.wraps(func)\n",
    "    def wrapper_timer(*args, **kwargs):\n",
    "        start_time = time.perf_counter()\n",
    "        value = func(*args, **kwargs)\n",
    "        end_time = time.perf_counter()\n",
    "        run_time = end_time - start_time\n",
    "        print(f'Finished {func.__name__!r} in {run_time:.4f} seconds.')\n",
    "        return value\n",
    "    return wrapper_timer"
   ],
   "id": "938e6949ea0c0a4c",
   "outputs": [],
   "execution_count": 2
  },
  {
   "metadata": {
    "ExecuteTime": {
     "end_time": "2024-11-24T03:33:40.423885Z",
     "start_time": "2024-11-24T03:33:40.422418Z"
    }
   },
   "cell_type": "code",
   "source": [
    "@timer\n",
    "def waste_some_time(num_times):\n",
    "    for _ in range(num_times):\n",
    "        sum(number ** 2 for number in range(10_000))"
   ],
   "id": "dcc2a721191884dd",
   "outputs": [],
   "execution_count": 3
  },
  {
   "metadata": {
    "ExecuteTime": {
     "end_time": "2024-11-24T03:33:40.429725Z",
     "start_time": "2024-11-24T03:33:40.427793Z"
    }
   },
   "cell_type": "code",
   "source": "waste_some_time(1)",
   "id": "e5c6514427c39743",
   "outputs": [
    {
     "name": "stdout",
     "output_type": "stream",
     "text": [
      "Finished 'waste_some_time' in 0.0004 seconds.\n"
     ]
    }
   ],
   "execution_count": 4
  },
  {
   "metadata": {
    "ExecuteTime": {
     "end_time": "2024-11-24T03:33:40.885005Z",
     "start_time": "2024-11-24T03:33:40.436350Z"
    }
   },
   "cell_type": "code",
   "source": "waste_some_time(999)",
   "id": "e36e05921b4b18d1",
   "outputs": [
    {
     "name": "stdout",
     "output_type": "stream",
     "text": [
      "Finished 'waste_some_time' in 0.4471 seconds.\n"
     ]
    }
   ],
   "execution_count": 5
  },
  {
   "metadata": {},
   "cell_type": "markdown",
   "source": "## Debugging Code",
   "id": "60828982324e3b56"
  },
  {
   "metadata": {},
   "cell_type": "markdown",
   "source": [
    "The following @trace decorator will print a function's arguments and\n",
    "return value every time you call the function."
   ],
   "id": "6ece4310f75a8e80"
  },
  {
   "metadata": {
    "ExecuteTime": {
     "end_time": "2024-11-24T03:33:40.890542Z",
     "start_time": "2024-11-24T03:33:40.888099Z"
    }
   },
   "cell_type": "code",
   "source": [
    "def trace(func):\n",
    "    @functools.wraps(func)\n",
    "    def wrapper_trace(*args, **kwargs):\n",
    "        args_repr = [repr(a) for a in args]\n",
    "        kwargs_repr = [f'{k}={repr(v)}' for k, v in kwargs.items()]\n",
    "        # Consider `inspect.signature(func)`\n",
    "        signature = ', '.join(args_repr + kwargs_repr)\n",
    "        print(f'Calling {func.__name__}({signature})')\n",
    "        value = func(*args, **kwargs)\n",
    "        print(f'{func.__name__} returned {repr(value)}')\n",
    "        return value\n",
    "    return wrapper_trace"
   ],
   "id": "b2b25a7856f37e54",
   "outputs": [],
   "execution_count": 6
  },
  {
   "metadata": {
    "ExecuteTime": {
     "end_time": "2024-11-24T03:33:40.900415Z",
     "start_time": "2024-11-24T03:33:40.898779Z"
    }
   },
   "cell_type": "code",
   "source": [
    "@trace\n",
    "def make_greeting(name, age=None):\n",
    "    if age is None:\n",
    "        return f'Howdy, {name}!'\n",
    "    else:\n",
    "        return f\"Whoa, {name}! {age} already, you're growing up!\""
   ],
   "id": "95975aa1fe2e9f55",
   "outputs": [],
   "execution_count": 7
  },
  {
   "metadata": {
    "ExecuteTime": {
     "end_time": "2024-11-24T03:33:40.905673Z",
     "start_time": "2024-11-24T03:33:40.902949Z"
    }
   },
   "cell_type": "code",
   "source": "make_greeting('Benjamin')",
   "id": "3c9b1c3202fc3763",
   "outputs": [
    {
     "name": "stdout",
     "output_type": "stream",
     "text": [
      "Calling make_greeting('Benjamin')\n",
      "make_greeting returned 'Howdy, Benjamin!'\n"
     ]
    },
    {
     "data": {
      "text/plain": [
       "'Howdy, Benjamin!'"
      ]
     },
     "execution_count": 8,
     "metadata": {},
     "output_type": "execute_result"
    }
   ],
   "execution_count": 8
  },
  {
   "metadata": {
    "ExecuteTime": {
     "end_time": "2024-11-24T03:33:40.912631Z",
     "start_time": "2024-11-24T03:33:40.910434Z"
    }
   },
   "cell_type": "code",
   "source": "make_greeting('Juan', age=114)",
   "id": "d9b3d499bb7e938e",
   "outputs": [
    {
     "name": "stdout",
     "output_type": "stream",
     "text": [
      "Calling make_greeting('Juan', age=114)\n",
      "make_greeting returned \"Whoa, Juan! 114 already, you're growing up!\"\n"
     ]
    },
    {
     "data": {
      "text/plain": [
       "\"Whoa, Juan! 114 already, you're growing up!\""
      ]
     },
     "execution_count": 9,
     "metadata": {},
     "output_type": "execute_result"
    }
   ],
   "execution_count": 9
  },
  {
   "metadata": {
    "ExecuteTime": {
     "end_time": "2024-11-24T03:33:40.928724Z",
     "start_time": "2024-11-24T03:33:40.926482Z"
    }
   },
   "cell_type": "code",
   "source": "make_greeting('Maria', age=116)",
   "id": "459674ba750a3296",
   "outputs": [
    {
     "name": "stdout",
     "output_type": "stream",
     "text": [
      "Calling make_greeting('Maria', age=116)\n",
      "make_greeting returned \"Whoa, Maria! 116 already, you're growing up!\"\n"
     ]
    },
    {
     "data": {
      "text/plain": [
       "\"Whoa, Maria! 116 already, you're growing up!\""
      ]
     },
     "execution_count": 10,
     "metadata": {},
     "output_type": "execute_result"
    }
   ],
   "execution_count": 10
  },
  {
   "metadata": {},
   "cell_type": "markdown",
   "source": [
    "\"This example might not seem immediately useful since the `@trace`\n",
    "decorator just repeats what you wrote. It's more powerful when\n",
    "applied to small convenience functions that you **don't** call\n",
    "**directly yourself.**\""
   ],
   "id": "ec5c1484c9b75e98"
  },
  {
   "metadata": {
    "ExecuteTime": {
     "end_time": "2024-11-24T03:33:40.945157Z",
     "start_time": "2024-11-24T03:33:40.943229Z"
    }
   },
   "cell_type": "code",
   "source": [
    "import math\n",
    "\n",
    "math.factorial = trace(math.factorial)\n",
    "\n",
    "def approximate_e(terms=18):\n",
    "    return sum(1 / math.factorial(n) for n in range(terms))"
   ],
   "id": "48bfbc3d6533d384",
   "outputs": [],
   "execution_count": 11
  },
  {
   "metadata": {},
   "cell_type": "markdown",
   "source": [
    "In this example, you apply a decorator to a function, `factorial()`,\n",
    "defined in the standard library. One cannot use the `pie` syntax;\n",
    "that is, `@trace`; however, one **can** wrap `math.factoria()`\n",
    "inside `trace()`."
   ],
   "id": "b51709fe07f69421"
  },
  {
   "metadata": {
    "ExecuteTime": {
     "end_time": "2024-11-24T03:33:40.958483Z",
     "start_time": "2024-11-24T03:33:40.956450Z"
    }
   },
   "cell_type": "code",
   "source": "approximate_e(terms=5)",
   "id": "710bd44d3dde8c4d",
   "outputs": [
    {
     "name": "stdout",
     "output_type": "stream",
     "text": [
      "Calling factorial(0)\n",
      "factorial returned 1\n",
      "Calling factorial(1)\n",
      "factorial returned 1\n",
      "Calling factorial(2)\n",
      "factorial returned 2\n",
      "Calling factorial(3)\n",
      "factorial returned 6\n",
      "Calling factorial(4)\n",
      "factorial returned 24\n"
     ]
    },
    {
     "data": {
      "text/plain": [
       "2.7083333333333335"
      ]
     },
     "execution_count": 12,
     "metadata": {},
     "output_type": "execute_result"
    }
   ],
   "execution_count": 12
  },
  {
   "metadata": {},
   "cell_type": "markdown",
   "source": "## Slowing Down Code",
   "id": "77a542b403ec1cf9"
  },
  {
   "metadata": {},
   "cell_type": "markdown",
   "source": [
    "In this section, we create a decorator that slows down our code.\n",
    "\n",
    "But why would one want to do that?\n",
    "\n",
    "Probably the most common case is that one wants to rate-limit a\n",
    "function that continually checks whether a resource, like a web page,\n",
    "has changed."
   ],
   "id": "83d3befbd890843a"
  },
  {
   "metadata": {
    "ExecuteTime": {
     "end_time": "2024-11-24T03:33:40.970325Z",
     "start_time": "2024-11-24T03:33:40.968417Z"
    }
   },
   "cell_type": "code",
   "source": [
    "import time\n",
    "def slow_down(func):\n",
    "    \"\"\"Sleep one second before calling the wrapped function.\"\"\"\n",
    "    @functools.wraps(func)\n",
    "    def wrapper_slow_down(*args, **kwargs):\n",
    "        time.sleep(1)\n",
    "        return func(*args, **kwargs)\n",
    "    return wrapper_slow_down"
   ],
   "id": "71dacc04973e8edb",
   "outputs": [],
   "execution_count": 13
  },
  {
   "metadata": {
    "ExecuteTime": {
     "end_time": "2024-11-24T03:33:40.983375Z",
     "start_time": "2024-11-24T03:33:40.981708Z"
    }
   },
   "cell_type": "code",
   "source": [
    "@slow_down\n",
    "def countdown(from_number):\n",
    "    if from_number < 1:\n",
    "        print('Liftoff!')\n",
    "    else:\n",
    "        print(from_number)\n",
    "        countdown(from_number - 1)"
   ],
   "id": "5d0b71959b0a5418",
   "outputs": [],
   "execution_count": 14
  },
  {
   "metadata": {
    "ExecuteTime": {
     "end_time": "2024-11-24T03:33:45.005884Z",
     "start_time": "2024-11-24T03:33:40.985540Z"
    }
   },
   "cell_type": "code",
   "source": "countdown(3)",
   "id": "e6b261dbf5ce001f",
   "outputs": [
    {
     "name": "stdout",
     "output_type": "stream",
     "text": [
      "3\n",
      "2\n",
      "1\n",
      "Liftoff!\n"
     ]
    }
   ],
   "execution_count": 15
  },
  {
   "metadata": {},
   "cell_type": "markdown",
   "source": "## Registering Plugins",
   "id": "e5e706abd098aeef"
  },
  {
   "metadata": {},
   "cell_type": "markdown",
   "source": [
    "Decorators don't actually need to wrap the function that they decorate.\n",
    "Instead, they can simply register that a function exists and return it\n",
    "**unwrapped**. You can use this, for example, to create a lightweight\n",
    "plugin architecture."
   ],
   "id": "f4a02f7655b52a3f"
  },
  {
   "metadata": {
    "ExecuteTime": {
     "end_time": "2024-11-24T03:33:45.019037Z",
     "start_time": "2024-11-24T03:33:45.016189Z"
    }
   },
   "cell_type": "code",
   "source": [
    "PLUGINS = dict()\n",
    "\n",
    "def register(func):\n",
    "    \"\"\"Register a function as a plugin.\"\"\"\n",
    "    PLUGINS[func.__name__] = func\n",
    "    return func"
   ],
   "id": "ce24555e89cb9913",
   "outputs": [],
   "execution_count": 16
  },
  {
   "metadata": {},
   "cell_type": "markdown",
   "source": [
    "Note that you **do not** need to write an inner function in this\n",
    "scenario because you are simply returning the original function\n",
    "**unwrapped**.\n",
    "\n",
    "We can now register functions as follows."
   ],
   "id": "9abbb9089f7ad0"
  },
  {
   "metadata": {
    "ExecuteTime": {
     "end_time": "2024-11-24T03:33:45.035774Z",
     "start_time": "2024-11-24T03:33:45.033561Z"
    }
   },
   "cell_type": "code",
   "source": [
    "@register\n",
    "def say_hello(name):\n",
    "    return f'Hello, {name}!'\n",
    "\n",
    "@register\n",
    "def be_awesome(name):\n",
    "    return f\"Yo {name}, together we're the awesoest!\""
   ],
   "id": "c2b429558f8f4257",
   "outputs": [],
   "execution_count": 17
  },
  {
   "metadata": {},
   "cell_type": "markdown",
   "source": [
    "Notice that the `PLUGINS` dictionary **already** contains references to the\n",
    "two functions that have (already) been registered."
   ],
   "id": "a7169a7a7af57d8c"
  },
  {
   "metadata": {
    "ExecuteTime": {
     "end_time": "2024-11-24T03:33:45.043567Z",
     "start_time": "2024-11-24T03:33:45.041179Z"
    }
   },
   "cell_type": "code",
   "source": "PLUGINS",
   "id": "8ea362918a51bdf2",
   "outputs": [
    {
     "data": {
      "text/plain": [
       "{'say_hello': <function __main__.say_hello(name)>,\n",
       " 'be_awesome': <function __main__.be_awesome(name)>}"
      ]
     },
     "execution_count": 18,
     "metadata": {},
     "output_type": "execute_result"
    }
   ],
   "execution_count": 18
  },
  {
   "metadata": {},
   "cell_type": "markdown",
   "source": [
    "After registering these functions, you can use `PLUGINS` to **call**\n",
    "these registered functions."
   ],
   "id": "cdc09e4517dde0c5"
  },
  {
   "metadata": {
    "ExecuteTime": {
     "end_time": "2024-11-24T03:33:45.051399Z",
     "start_time": "2024-11-24T03:33:45.048332Z"
    }
   },
   "cell_type": "code",
   "source": [
    "import random\n",
    "\n",
    "def randomly_greet(name):\n",
    "    greeter, greeter_func = random.choice(list(PLUGINS.items()))\n",
    "    print(f'Using {greeter}')\n",
    "    return greeter_func(name)\n",
    "\n",
    "randomly_greet('Alice')"
   ],
   "id": "21200a71ba0b03a6",
   "outputs": [
    {
     "name": "stdout",
     "output_type": "stream",
     "text": [
      "Using be_awesome\n"
     ]
    },
    {
     "data": {
      "text/plain": [
       "\"Yo Alice, together we're the awesoest!\""
      ]
     },
     "execution_count": 19,
     "metadata": {},
     "output_type": "execute_result"
    }
   ],
   "execution_count": 19
  },
  {
   "metadata": {
    "ExecuteTime": {
     "end_time": "2024-11-24T03:33:45.069681Z",
     "start_time": "2024-11-24T03:33:45.067089Z"
    }
   },
   "cell_type": "code",
   "source": "randomly_greet('Alice')",
   "id": "f38db7697a8cae72",
   "outputs": [
    {
     "name": "stdout",
     "output_type": "stream",
     "text": [
      "Using be_awesome\n"
     ]
    },
    {
     "data": {
      "text/plain": [
       "\"Yo Alice, together we're the awesoest!\""
      ]
     },
     "execution_count": 20,
     "metadata": {},
     "output_type": "execute_result"
    }
   ],
   "execution_count": 20
  },
  {
   "metadata": {},
   "cell_type": "markdown",
   "source": "## Authenticating Users",
   "id": "99d52901e0c10dda"
  },
  {
   "metadata": {},
   "cell_type": "markdown",
   "source": [
    "Our final example, before moving on to some fancier decorators, is\n",
    "commonly used when working with a web framework. We'll use `Flask`\n",
    "to set up a web page at the URL `/secret' that is only visible to\n",
    "users which are **already logged in** (or authenticated)."
   ],
   "id": "2281d7fbaa7d3b6f"
  },
  {
   "metadata": {
    "ExecuteTime": {
     "end_time": "2024-11-24T03:33:45.147701Z",
     "start_time": "2024-11-24T03:33:45.082576Z"
    }
   },
   "cell_type": "code",
   "source": [
    "from flask import Flask, g, request, redirect, url_for\n",
    "\n",
    "app = Flask(__name__)\n",
    "\n",
    "def login_required(func):\n",
    "    \"\"\"Make sure that the user is logged in **before** proceeding..\"\"\"\n",
    "    @functools.wraps(func)\n",
    "    def wrapper_login_required(*args, **kwargs):\n",
    "        if g.user is None:\n",
    "            return redirect(url_for('login', next=request.url))\n",
    "        return func(*args, **kwargs)\n",
    "    return wrapper_login_required\n",
    "\n",
    "@app.route('/secret')\n",
    "@login_required\n",
    "def secret_page():\n",
    "    pass # Put implementation here"
   ],
   "id": "7294fbcc22e6fcad",
   "outputs": [],
   "execution_count": 21
  },
  {
   "metadata": {},
   "cell_type": "markdown",
   "source": [
    "Although one can write these types of decorators, you should\n",
    "**not usually**. Check the package for the functionality that\n",
    "you need. The package functionality will typical be more\n",
    "secure and still provide more functionality."
   ],
   "id": "40f7e0d114a7523"
  },
  {
   "metadata": {
    "ExecuteTime": {
     "end_time": "2024-11-24T03:33:45.153918Z",
     "start_time": "2024-11-24T03:33:45.152545Z"
    }
   },
   "cell_type": "code",
   "source": "",
   "id": "b4229551b1646a91",
   "outputs": [],
   "execution_count": null
  }
 ],
 "metadata": {
  "kernelspec": {
   "display_name": "Python 3",
   "language": "python",
   "name": "python3"
  },
  "language_info": {
   "codemirror_mode": {
    "name": "ipython",
    "version": 2
   },
   "file_extension": ".py",
   "mimetype": "text/x-python",
   "name": "python",
   "nbconvert_exporter": "python",
   "pygments_lexer": "ipython2",
   "version": "2.7.6"
  }
 },
 "nbformat": 4,
 "nbformat_minor": 5
}
